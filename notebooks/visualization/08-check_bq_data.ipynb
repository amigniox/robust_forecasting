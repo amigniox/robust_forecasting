{
 "cells": [
  {
   "cell_type": "markdown",
   "metadata": {},
   "source": [
    "## Quick check of missing values in wiki per-article pageview data"
   ]
  },
  {
   "cell_type": "code",
   "execution_count": 1,
   "metadata": {},
   "outputs": [],
   "source": [
    "import time\n",
    "import numpy as np\n",
    "import pandas as pd\n",
    "import json\n",
    "import matplotlib.pyplot as plt\n",
    "import heapq"
   ]
  },
  {
   "cell_type": "code",
   "execution_count": 2,
   "metadata": {},
   "outputs": [],
   "source": [
    "# important window definition\n",
    "prediction_length = 48\n",
    "context_length = 72\n",
    "day = 24\n",
    "week = 148\n",
    "month = 720\n",
    "year = 8760\n",
    "\n",
    "freq = 'H'"
   ]
  },
  {
   "cell_type": "code",
   "execution_count": 3,
   "metadata": {},
   "outputs": [],
   "source": [
    "# get the Time Series data and corresponding wiki project name\n",
    "def get_ts_and_name(data_location,label_location,freq):\n",
    "    df_ts = pd.read_json(data_location, lines=True)\n",
    "    num_pt = min(len(df_ts.iloc[1, 1]), 100000)\n",
    "    print('use first ', num_pt, ' points in a time series')\n",
    "    num_ts = len(df_ts)\n",
    "\n",
    "    time_series_wiki = []\n",
    "    for k in range(num_ts):\n",
    "        t0 = df_ts.iloc[k, 0]\n",
    "        data = df_ts.iloc[k, 1][:num_pt]\n",
    "        index = pd.DatetimeIndex(start=t0, freq=freq, periods=num_pt)\n",
    "        time_series_wiki.append(pd.Series(data=data, index=index))\n",
    "        \n",
    "    with open(label_location) as f:\n",
    "        wp_list = f.read().splitlines()  \n",
    "        \n",
    "    return time_series_wiki, wp_list\n",
    "\n",
    "# get the Time Series data and corresponding wiki project name\n",
    "def get_ts(data_location,freq):\n",
    "    df_ts = pd.read_json(data_location, lines=True)\n",
    "    num_pt = min(len(df_ts.iloc[1, 1]), 100000)\n",
    "    print('use first ', num_pt, ' points in a time series')\n",
    "    num_ts = len(df_ts)\n",
    "\n",
    "    time_series_wiki = []\n",
    "    for k in range(num_ts):\n",
    "        t0 = df_ts.iloc[k, 0]\n",
    "        data = df_ts.iloc[k, 1][:num_pt]\n",
    "        index = pd.DatetimeIndex(start=t0, freq=freq, periods=num_pt)\n",
    "        time_series_wiki.append(pd.Series(data=data, index=index))       \n",
    "    return time_series_wiki"
   ]
  },
  {
   "cell_type": "code",
   "execution_count": 4,
   "metadata": {},
   "outputs": [
    {
     "name": "stdout",
     "output_type": "stream",
     "text": [
      "use first  8737  points in a time series\n",
      "mean null percentage 0.28678754801620077\n"
     ]
    },
    {
     "data": {
      "text/plain": [
       "(array([547., 188., 166., 114., 131., 125., 107., 117., 117., 106.,  99.,\n",
       "        103., 117.,  99., 104., 102., 118., 130., 121., 139.]),\n",
       " array([0.        , 0.03498913, 0.06997825, 0.10496738, 0.13995651,\n",
       "        0.17494563, 0.20993476, 0.24492389, 0.27991301, 0.31490214,\n",
       "        0.34989127, 0.38488039, 0.41986952, 0.45485865, 0.48984777,\n",
       "        0.5248369 , 0.55982603, 0.59481515, 0.62980428, 0.66479341,\n",
       "        0.69978253]),\n",
       " <a list of 20 Patch objects>)"
      ]
     },
     "execution_count": 4,
     "metadata": {},
     "output_type": "execute_result"
    },
    {
     "data": {
      "image/png": "[encoded data removed]",
      "text/plain": [
       "<Figure size 432x288 with 1 Axes>"
      ]
     },
     "metadata": {
      "needs_background": "light"
     },
     "output_type": "display_data"
    }
   ],
   "source": [
    "input_file = 'big_train_2018.json'\n",
    "\n",
    "time_series_wiki = get_ts(input_file,freq)\n",
    "\n",
    "list_null = []\n",
    "count = 0\n",
    "for k in range(len(time_series_wiki)):\n",
    "    ts = time_series_wiki[k]\n",
    "    list_null.append(ts.isnull().sum()/len(ts)) \n",
    "\n",
    "print('mean null percentage', sum(list_null)/len(list_null))\n",
    "plt.figure()\n",
    "plt.hist(list_null, bins = 20)"
   ]
  },
  {
   "cell_type": "code",
   "execution_count": 5,
   "metadata": {},
   "outputs": [
    {
     "name": "stdout",
     "output_type": "stream",
     "text": [
      "use first  8737  points in a time series\n",
      "mean null percentage 0.2725592211740457\n"
     ]
    },
    {
     "data": {
      "text/plain": [
       "(array([646., 195., 137., 142., 134., 126., 108., 115., 123., 124., 111.,\n",
       "        110., 105., 110., 100., 109., 114., 110., 121., 115.]),\n",
       " array([0.        , 0.0349834 , 0.06996681, 0.10495021, 0.13993362,\n",
       "        0.17491702, 0.20990042, 0.24488383, 0.27986723, 0.31485064,\n",
       "        0.34983404, 0.38481744, 0.41980085, 0.45478425, 0.48976765,\n",
       "        0.52475106, 0.55973446, 0.59471787, 0.62970127, 0.66468467,\n",
       "        0.69966808]),\n",
       " <a list of 20 Patch objects>)"
      ]
     },
     "execution_count": 5,
     "metadata": {},
     "output_type": "execute_result"
    },
    {
     "data": {
      "image/png": "[encoded data removed]",
      "text/plain": [
       "<Figure size 432x288 with 1 Axes>"
      ]
     },
     "metadata": {
      "needs_background": "light"
     },
     "output_type": "display_data"
    }
   ],
   "source": [
    "input_file = 'big_train_2017.json'\n",
    "\n",
    "time_series_wiki = get_ts(input_file,freq)\n",
    "\n",
    "list_null = []\n",
    "count = 0\n",
    "for k in range(len(time_series_wiki)):\n",
    "    ts = time_series_wiki[k]\n",
    "    list_null.append(ts.isnull().sum()/len(ts)) \n",
    "\n",
    "print('mean null percentage', sum(list_null)/len(list_null))\n",
    "plt.figure()\n",
    "plt.hist(list_null, bins = 20)"
   ]
  },
  {
   "cell_type": "code",
   "execution_count": 6,
   "metadata": {},
   "outputs": [
    {
     "name": "stdout",
     "output_type": "stream",
     "text": [
      "use first  8761  points in a time series\n",
      "mean null percentage 0.27756610815104427\n"
     ]
    },
    {
     "data": {
      "text/plain": [
       "(array([627., 184., 160., 136., 139., 128., 119., 115., 103.,  94.,  88.,\n",
       "        115.,  94.,  91., 119., 107., 116., 115., 135., 137.]),\n",
       " array([0.        , 0.03499601, 0.06999201, 0.10498802, 0.13998402,\n",
       "        0.17498003, 0.20997603, 0.24497204, 0.27996804, 0.31496405,\n",
       "        0.34996005, 0.38495606, 0.41995206, 0.45494807, 0.48994407,\n",
       "        0.52494008, 0.55993608, 0.59493209, 0.62992809, 0.6649241 ,\n",
       "        0.6999201 ]),\n",
       " <a list of 20 Patch objects>)"
      ]
     },
     "execution_count": 6,
     "metadata": {},
     "output_type": "execute_result"
    },
    {
     "data": {
      "image/png": "[encoded data removed]",
      "text/plain": [
       "<Figure size 432x288 with 1 Axes>"
      ]
     },
     "metadata": {
      "needs_background": "light"
     },
     "output_type": "display_data"
    }
   ],
   "source": [
    "input_file = 'big_train_2016.json'\n",
    "\n",
    "time_series_wiki = get_ts(input_file,freq)\n",
    "\n",
    "list_null = []\n",
    "count = 0\n",
    "for k in range(len(time_series_wiki)):\n",
    "    ts = time_series_wiki[k]\n",
    "    list_null.append(ts.isnull().sum()/len(ts)) \n",
    "\n",
    "print('mean null percentage', sum(list_null)/len(list_null))\n",
    "plt.figure()\n",
    "plt.hist(list_null, bins = 20)"
   ]
  },
  {
   "cell_type": "code",
   "execution_count": 7,
   "metadata": {},
   "outputs": [
    {
     "name": "stdout",
     "output_type": "stream",
     "text": [
      "use first  8737  points in a time series\n",
      "mean null percentage 0.5037612433868695\n"
     ]
    },
    {
     "data": {
      "text/plain": [
       "(array([96., 32., 25., 26., 26., 17., 20., 23., 25., 17., 24., 25., 29.,\n",
       "        32., 23., 23., 37., 41., 27., 37.]),\n",
       " array([0.32974705, 0.34825455, 0.36676205, 0.38526954, 0.40377704,\n",
       "        0.42228454, 0.44079203, 0.45929953, 0.47780703, 0.49631452,\n",
       "        0.51482202, 0.53332952, 0.55183701, 0.57034451, 0.58885201,\n",
       "        0.60735951, 0.625867  , 0.6443745 , 0.662882  , 0.68138949,\n",
       "        0.69989699]),\n",
       " <a list of 20 Patch objects>)"
      ]
     },
     "execution_count": 7,
     "metadata": {},
     "output_type": "execute_result"
    },
    {
     "data": {
      "image/png": "[encoded data removed]",
      "text/plain": [
       "<Figure size 432x288 with 1 Axes>"
      ]
     },
     "metadata": {
      "needs_background": "light"
     },
     "output_type": "display_data"
    }
   ],
   "source": [
    "input_file = 'big_train_2015.json'\n",
    "\n",
    "time_series_wiki = get_ts(input_file,freq)\n",
    "\n",
    "list_null = []\n",
    "count = 0\n",
    "for k in range(len(time_series_wiki)):\n",
    "    ts = time_series_wiki[k]\n",
    "    list_null.append(ts.isnull().sum()/len(ts)) \n",
    "\n",
    "print('mean null percentage', sum(list_null)/len(list_null))\n",
    "plt.figure()\n",
    "plt.hist(list_null, bins = 20)"
   ]
  },
  {
   "cell_type": "code",
   "execution_count": null,
   "metadata": {},
   "outputs": [],
   "source": []
  }
 ],
 "metadata": {
  "kernelspec": {
   "display_name": "Python 3",
   "language": "python",
   "name": "python3"
  },
  "language_info": {
   "codemirror_mode": {
    "name": "ipython",
    "version": 3
   },
   "file_extension": ".py",
   "mimetype": "text/x-python",
   "name": "python",
   "nbconvert_exporter": "python",
   "pygments_lexer": "ipython3",
   "version": "3.7.2"
  }
 },
 "nbformat": 4,
 "nbformat_minor": 2
}
