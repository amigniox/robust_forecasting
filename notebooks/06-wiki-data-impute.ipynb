{
 "cells": [
  {
   "cell_type": "markdown",
   "metadata": {},
   "source": [
    "## Wiki data impute test\n",
    "- Wiki data have missing values especially for unpopular projects.\n",
    "- Things have tried before: 1. pad the missing values to be 0s 2. leave them as NULL so they are not taken account in the RNN model training.\n",
    "- Here we see how different imputation looks like."
   ]
  },
  {
   "cell_type": "code",
   "execution_count": 1,
   "metadata": {},
   "outputs": [],
   "source": [
    "import time\n",
    "import numpy as np\n",
    "import pandas as pd\n",
    "import json\n",
    "import matplotlib.pyplot as plt\n",
    "import heapq"
   ]
  },
  {
   "cell_type": "code",
   "execution_count": 2,
   "metadata": {},
   "outputs": [],
   "source": [
    "# important window definition\n",
    "prediction_length = 48\n",
    "context_length = 72\n",
    "day = 24\n",
    "week = 148\n",
    "month = 720\n",
    "year = 8760"
   ]
  },
  {
   "cell_type": "code",
   "execution_count": 3,
   "metadata": {},
   "outputs": [],
   "source": [
    "# get the Time Series data and corresponding wiki project name\n",
    "def get_ts(data_location,label_location,freq):\n",
    "    df_ts = pd.read_json(data_location, lines=True)\n",
    "    num_pt = min(len(df_ts.iloc[1, 1]), 100000)\n",
    "    print('use first ', num_pt, ' points in a time series')\n",
    "    num_ts = len(df_ts)\n",
    "\n",
    "    time_series_wiki = []\n",
    "    for k in range(num_ts):\n",
    "        t0 = df_ts.iloc[k, 0]\n",
    "        data = df_ts.iloc[k, 1][:num_pt]\n",
    "        index = pd.DatetimeIndex(start=t0, freq=freq, periods=num_pt)\n",
    "        time_series_wiki.append(pd.Series(data=data, index=index))\n",
    "        \n",
    "    with open(label_location) as f:\n",
    "        wp_list = f.read().splitlines()  \n",
    "        \n",
    "    return time_series_wiki, wp_list"
   ]
  },
  {
   "cell_type": "code",
   "execution_count": 4,
   "metadata": {},
   "outputs": [
    {
     "name": "stdout",
     "output_type": "stream",
     "text": [
      "use first  8784  points in a time series\n"
     ]
    }
   ],
   "source": [
    "label_location = 'wp_full-20180101-20190101_get.txt'    \n",
    "data_location = 'test_1year.json'\n",
    "freq = 'H'\n",
    "\n",
    "time_series_wiki, wp_list = get_ts(data_location,label_location,freq)"
   ]
  },
  {
   "cell_type": "code",
   "execution_count": 5,
   "metadata": {},
   "outputs": [],
   "source": [
    "tm = time_series_wiki[12]"
   ]
  },
  {
   "cell_type": "code",
   "execution_count": 6,
   "metadata": {},
   "outputs": [
    {
     "name": "stdout",
     "output_type": "stream",
     "text": [
      "mean = 0.4929417122040073  std = 5.00273820486491\n"
     ]
    },
    {
     "data": {
      "image/png": "[encoded data removed]",
      "text/plain": [
       "<Figure size 864x360 with 1 Axes>"
      ]
     },
     "metadata": {
      "needs_background": "light"
     },
     "output_type": "display_data"
    }
   ],
   "source": [
    "tm.plot(figsize = (12,5))\n",
    "print('mean = {}'.format(tm.mean()), ' std = {}'.format(tm.std()))"
   ]
  },
  {
   "cell_type": "code",
   "execution_count": 7,
   "metadata": {},
   "outputs": [
    {
     "name": "stdout",
     "output_type": "stream",
     "text": [
      "total zero values 7470  length  8784\n"
     ]
    },
    {
     "data": {
      "text/plain": [
       "2018-01-01 00:00:00      0\n",
       "2018-01-01 01:00:00      0\n",
       "2018-01-01 02:00:00      0\n",
       "2018-01-01 03:00:00      0\n",
       "2018-01-01 04:00:00      0\n",
       "2018-01-01 05:00:00      0\n",
       "2018-01-01 06:00:00      0\n",
       "2018-01-01 07:00:00      0\n",
       "2018-01-01 08:00:00      0\n",
       "2018-01-01 09:00:00      0\n",
       "2018-01-01 10:00:00      0\n",
       "2018-01-01 11:00:00      0\n",
       "2018-01-01 12:00:00      0\n",
       "2018-01-01 13:00:00      0\n",
       "2018-01-01 14:00:00      0\n",
       "2018-01-01 15:00:00      1\n",
       "2018-01-01 16:00:00      0\n",
       "2018-01-01 17:00:00      1\n",
       "2018-01-01 18:00:00      2\n",
       "2018-01-01 19:00:00      0\n",
       "2018-01-01 20:00:00      0\n",
       "2018-01-01 21:00:00      0\n",
       "2018-01-01 22:00:00      0\n",
       "2018-01-01 23:00:00      0\n",
       "2018-01-02 00:00:00      0\n",
       "2018-01-02 01:00:00      3\n",
       "2018-01-02 02:00:00      0\n",
       "2018-01-02 03:00:00      0\n",
       "2018-01-02 04:00:00      0\n",
       "2018-01-02 05:00:00      0\n",
       "                      ... \n",
       "2018-12-31 18:00:00      0\n",
       "2018-12-31 19:00:00      0\n",
       "2018-12-31 20:00:00      0\n",
       "2018-12-31 21:00:00      2\n",
       "2018-12-31 22:00:00      0\n",
       "2018-12-31 23:00:00      0\n",
       "2019-01-01 00:00:00      0\n",
       "2019-01-01 01:00:00      0\n",
       "2019-01-01 02:00:00      0\n",
       "2019-01-01 03:00:00      0\n",
       "2019-01-01 04:00:00      0\n",
       "2019-01-01 05:00:00      0\n",
       "2019-01-01 06:00:00      0\n",
       "2019-01-01 07:00:00      0\n",
       "2019-01-01 08:00:00      0\n",
       "2019-01-01 09:00:00      0\n",
       "2019-01-01 10:00:00      0\n",
       "2019-01-01 11:00:00      0\n",
       "2019-01-01 12:00:00      0\n",
       "2019-01-01 13:00:00    361\n",
       "2019-01-01 14:00:00      0\n",
       "2019-01-01 15:00:00      2\n",
       "2019-01-01 16:00:00      3\n",
       "2019-01-01 17:00:00      0\n",
       "2019-01-01 18:00:00      0\n",
       "2019-01-01 19:00:00      1\n",
       "2019-01-01 20:00:00      0\n",
       "2019-01-01 21:00:00      0\n",
       "2019-01-01 22:00:00      2\n",
       "2019-01-01 23:00:00      0\n",
       "Freq: H, Length: 8784, dtype: int64"
      ]
     },
     "execution_count": 7,
     "metadata": {},
     "output_type": "execute_result"
    }
   ],
   "source": [
    "print('total zero values',(tm == 0).sum(), ' length ', len(tm))\n",
    "tm"
   ]
  },
  {
   "cell_type": "code",
   "execution_count": 8,
   "metadata": {},
   "outputs": [],
   "source": [
    "tm_null = tm.replace(to_replace=0, value=np.nan, inplace = False)"
   ]
  },
  {
   "cell_type": "code",
   "execution_count": 10,
   "metadata": {},
   "outputs": [
    {
     "data": {
      "text/plain": [
       "7470"
      ]
     },
     "execution_count": 10,
     "metadata": {},
     "output_type": "execute_result"
    }
   ],
   "source": [
    "tm_null.isnull().sum()"
   ]
  },
  {
   "cell_type": "code",
   "execution_count": 11,
   "metadata": {},
   "outputs": [],
   "source": [
    "tm_fillmean = tm_null.fillna(value = tm_null.mean())"
   ]
  },
  {
   "cell_type": "code",
   "execution_count": 13,
   "metadata": {},
   "outputs": [],
   "source": [
    "tm_fillfw = tm_null.fillna(method = 'ffill')"
   ]
  },
  {
   "cell_type": "code",
   "execution_count": 19,
   "metadata": {},
   "outputs": [
    {
     "data": {
      "text/plain": [
       "<matplotlib.legend.Legend at 0x125264f98>"
      ]
     },
     "execution_count": 19,
     "metadata": {},
     "output_type": "execute_result"
    },
    {
     "data": {
      "image/png": "[encoded data removed]",
      "text/plain": [
       "<Figure size 864x360 with 1 Axes>"
      ]
     },
     "metadata": {
      "needs_background": "light"
     },
     "output_type": "display_data"
    }
   ],
   "source": [
    "plt.figure(figsize = (12,5))\n",
    "plt.plot(tm_fillmean[500:700], label = 'fill mean')\n",
    "plt.plot(tm_fillfw[500:700], label = 'fill forward')\n",
    "plt.legend(loc = 'best')"
   ]
  },
  {
   "cell_type": "code",
   "execution_count": null,
   "metadata": {},
   "outputs": [],
   "source": []
  }
 ],
 "metadata": {
  "kernelspec": {
   "display_name": "Python 3",
   "language": "python",
   "name": "python3"
  },
  "language_info": {
   "codemirror_mode": {
    "name": "ipython",
    "version": 3
   },
   "file_extension": ".py",
   "mimetype": "text/x-python",
   "name": "python",
   "nbconvert_exporter": "python",
   "pygments_lexer": "ipython3",
   "version": "3.7.2"
  }
 },
 "nbformat": 4,
 "nbformat_minor": 2
}
